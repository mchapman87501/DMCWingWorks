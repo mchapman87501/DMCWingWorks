{
 "cells": [
  {
   "cell_type": "markdown",
   "id": "91e1c6dd-8de5-43de-b690-6ee160911df4",
   "metadata": {},
   "source": [
    "# Introduction\n",
    "\n",
    "Some collisions between particles and the airfoil result in an inward recoil force - a recoil into the airfoil.  Effectively this contributes to a negative pressure on an edge of the airfoil, and that should never happen.\n",
    "\n",
    "The problem is being investigated on branch `debug_particle_inside_foil`, revision `234a5d7fc6f492f8a9ba68dbd4eb63e963c11057`, which was created `Wed Oct 20 10:18:22 2021 -0600`.  The problem manifests in `main` revisions up through this date."
   ]
  },
  {
   "cell_type": "code",
   "execution_count": 1,
   "id": "0779c98c-7ba9-4db4-83eb-89bf4454a1d2",
   "metadata": {},
   "outputs": [],
   "source": [
    "%matplotlib osx\n",
    "import matplotlib.pyplot as plt\n",
    "import math"
   ]
  },
  {
   "cell_type": "code",
   "execution_count": 2,
   "id": "402ca6c2-39bf-4316-9493-0b3925b1dcf2",
   "metadata": {},
   "outputs": [],
   "source": [
    "foil = [\n",
    "    (21.61566625583794, 30.582579917106106),\n",
    "    (22.285935920085585, 31.40518764019059),\n",
    "    (22.86876914734008, 31.675743426771763),\n",
    "    (23.998393101103794, 31.98929160626099),\n",
    "    (25.107325989624854, 32.17220154123417),\n",
    "    (26.205579618665837, 32.28768528548939),\n",
    "    (28.378058542917618, 32.36694384488441),\n",
    "    (30.528511494491735, 32.307135885923635),\n",
    "    (32.662945556845735, 32.14618864088592),\n",
    "    (34.78403054484963, 31.90095865745075),\n",
    "    (38.99282783498218, 31.199791844586784),\n",
    "    (43.16958734667449, 30.296346459568934),\n",
    "    (47.32498833940664, 29.25804869311516),\n",
    "    (51.46036572061364, 28.09332681906521),\n",
    "    (55.57905675888301, 26.823251522018445),\n",
    "    (59.68172890793227, 25.45203693889474),\n",
    "    (61.72605671842308, 24.722181209674225),\n",
    "    (63.765712352891384, 23.9628265220146),\n",
    "    (63.748358556236255, 23.85325896209791),\n",
    "    (61.61792921618728, 24.039491028654865),\n",
    "    (59.48816732985583, 24.22993723213169),\n",
    "    (55.228643557192896, 24.61082963908534),\n",
    "    (50.97178959939998, 25.008578593718475),\n",
    "    (46.71627054904209, 25.41475582219136),\n",
    "    (42.463421313554214, 25.837789598343736),\n",
    "    (38.2185815226764, 26.31139301753458),\n",
    "    (33.98308608384365, 26.843994353603644),\n",
    "    (31.869343086732307, 27.135579843157412),\n",
    "    (29.76160717307851, 27.46509256499003),\n",
    "    (27.663215611469777, 27.853603203700867),\n",
    "    (25.57950803164616, 28.3348248546489),\n",
    "    (24.545329959485656, 28.62389825470145),\n",
    "    (23.521831146805233, 28.980397845471963),\n",
    "    (22.517688491932457, 29.459107406918783),\n",
    "    (22.032303507433692, 29.803815610639006),\n",
    "]\n",
    "foil.append(foil[0])\n",
    "x_foil = [p[0] for p in foil]\n",
    "y_foil = [p[1] for p in foil]"
   ]
  },
  {
   "cell_type": "code",
   "execution_count": 3,
   "id": "7e6b4273-e582-4b35-8c69-0aaf7dc64d7d",
   "metadata": {},
   "outputs": [],
   "source": [
    "class Record:\n",
    "    def __init__(self, **kw):\n",
    "        for k, v in kw.items():\n",
    "            setattr(self, k, v)\n"
   ]
  },
  {
   "cell_type": "code",
   "execution_count": 13,
   "id": "9013fc85-0f3c-4f44-8b20-d6aac36654e7",
   "metadata": {},
   "outputs": [],
   "source": [
    "def plot_foil():\n",
    "    plt.plot(x_foil, y_foil, \"k-\")\n",
    "\n",
    "def plot_record(rec):\n",
    "    norm_x0 = sum(rec.edge_x) / 2.0\n",
    "    norm_y0 = sum(rec.edge_y) / 2.0\n",
    "\n",
    "    fig = plt.figure()\n",
    "    plt.axis(\"equal\")\n",
    "    plot_foil()\n",
    "\n",
    "    plt.plot(rec.edge_x, rec.edge_y, \"b-\", linewidth=3)\n",
    "    plt.arrow(norm_x0, norm_y0, rec.edge_normal[0], rec.edge_normal[1], width=0.05, color=\"blue\")\n",
    "\n",
    "    # Recoil force anchored at old particle position:\n",
    "    plt.arrow(*rec.pos_before, *rec.recoil_force, width=0.2, color=\"red\")\n",
    "    # Recoil vector anchored at old position:\n",
    "    plt.arrow(*rec.pos_before, *rec.recoil_vec, width=0.1, color=\"pink\")\n",
    "    # Recoil unit vector:\n",
    "    plt.arrow(*rec.pos_before, *rec.recoil_unit, width=0.05, color=\"orange\")\n",
    "\n",
    "    color_before = \"#88ff88\"\n",
    "    color = \"#009900\"\n",
    "\n",
    "    # Original particle position and velocity:\n",
    "    plt.arrow(*rec.pos_before, *rec.vel_before, width=0.1, color=color_before)\n",
    "\n",
    "    # Particle velocity vector anchored at new particle position:\n",
    "    plt.arrow(*rec.pos, *rec.vel, width=0.1, color=color)\n",
    "\n",
    "    # Particle positions:\n",
    "    plt.plot(*rec.pos_before, marker=\"D\", color=color_before)\n",
    "    plt.plot(*rec.pos, marker=\"o\", color=color)\n",
    "\n",
    "    msg = \"Negative\" if rec.is_negative_force else \"Positive\"\n",
    "    plt.title(f\"Particle {rec.particle_id} - {msg}\")\n",
    "    plt.show()"
   ]
  },
  {
   "cell_type": "code",
   "execution_count": 14,
   "id": "71ac8d0f-5c4f-47b2-b135-887656f92c00",
   "metadata": {},
   "outputs": [],
   "source": [
    "plot_record(Record(\n",
    "    particle_id=129,\n",
    "    mass=1.0,\n",
    "    edge_index=13,\n",
    "    is_negative_force=True,\n",
    "    recoil_force=(0.5392993141930545, 1.7488783991599564),\n",
    "    recoil_vec=(0.00923608340988216, 0.02995143205874777),\n",
    "    recoil_unit=(0.294676227936813, 0.9555971539769944),\n",
    "    recoil_overlap=0.03134315745300853,\n",
    "    pos_before=(52.44017413168943, 27.889193305986247),\n",
    "    vel_before=(2.9852556164223527, 0.037031388844566804),\n",
    "    pos=(52.44941021509931, 27.919144738044995),\n",
    "    vel=(2.4459563022292983, -1.7118470103153896),\n",
    "    edge_x=(51.46036572061364, 55.57905675888301),\n",
    "    edge_y=(28.09332681906521, 26.823251522018445),\n",
    "    edge_normal=(0.294676227936813, 0.9555971539769944),\n",
    "))\n"
   ]
  },
  {
   "cell_type": "code",
   "execution_count": 15,
   "id": "ce6718c4-2a4b-4db4-92bb-423686f6cd54",
   "metadata": {},
   "outputs": [],
   "source": [
    "plot_record(Record(\n",
    "    particle_id=19174,\n",
    "    mass=1.0,\n",
    "    edge_index=25,\n",
    "    is_negative_force=False,\n",
    "    recoil_force=(0.08761850619809214, 0.6967834254761159),\n",
    "    recoil_vec=(-0.010825856303603679, -0.08609228308324464),\n",
    "    recoil_unit=(-0.12476457502354961, -0.99218637403423),\n",
    "    recoil_overlap=0.08677027354567812,\n",
    "    pos_before=(36.94759769359838, 26.432684776816743),\n",
    "    vel_before=(3.0023826998695546, -0.023640365531086047),\n",
    "    pos=(36.93677183729478, 26.3465924937335),\n",
    "    vel=(2.9147641936714623, -0.720423791007202),\n",
    "    edge_x=(38.2185815226764, 33.98308608384365),\n",
    "    edge_y=(26.31139301753458, 26.843994353603644),\n",
    "    edge_normal=(-0.1247645750235496, -0.9921863740342299),\n",
    "))"
   ]
  },
  {
   "cell_type": "code",
   "execution_count": null,
   "id": "7772e9ac-a803-4f06-ae40-98597412134a",
   "metadata": {},
   "outputs": [],
   "source": []
  }
 ],
 "metadata": {
  "kernelspec": {
   "display_name": "Python 3 (ipykernel)",
   "language": "python",
   "name": "python3"
  },
  "language_info": {
   "codemirror_mode": {
    "name": "ipython",
    "version": 3
   },
   "file_extension": ".py",
   "mimetype": "text/x-python",
   "name": "python",
   "nbconvert_exporter": "python",
   "pygments_lexer": "ipython3",
   "version": "3.9.7"
  }
 },
 "nbformat": 4,
 "nbformat_minor": 5
}
