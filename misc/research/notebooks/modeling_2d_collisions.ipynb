{
 "cells": [
  {
   "cell_type": "code",
   "execution_count": 13,
   "metadata": {},
   "outputs": [],
   "source": [
    "import math\n",
    "\n",
    "class Vec2:\n",
    "    def __init__(self, x: float, y: float):\n",
    "        self.x = x\n",
    "        self.y = y\n",
    "        \n",
    "    def diff(self, other: 'Vec2') -> 'Vec2':\n",
    "        return Vec2(self.x - other.x, self.y - other.y)\n",
    "    \n",
    "    def magnitude(self) -> float:\n",
    "        return math.sqrt(self.x * self.x + self.y * self.y)\n",
    "    \n",
    "    def unit(self) -> 'Vec2':\n",
    "        m = self.magnitude()\n",
    "        if m <= 0:\n",
    "            return Vec2(0.0, 0.0)\n",
    "        return Vec2(self.x / m, self.y / m)\n",
    "    \n",
    "    def dot(self, other: 'Vec2') -> float:\n",
    "        return self.x * other.x + self.y * other.y\n",
    "    \n",
    "    def angle(self, other: 'Vec2') -> float:\n",
    "        \"\"\"Get the angle between self and other.\"\"\"\n",
    "        d = self.dot(other)\n",
    "        return math.acos(d)\n",
    "    \n",
    "    def rotated(self, rads: float) -> 'Vec2':\n",
    "        \"\"\"Get self, rotated clockwise by rads.\"\"\"\n",
    "        cos = math.cos(rads)\n",
    "        sin = math.sin(rads)\n",
    "        x = self.x * cos - self.y * sin\n",
    "        y = self.y * c + self.x * sin\n",
    "        return Vec2(x, y)\n",
    "    \n",
    "    def normal(self) -> 'Vec2':\n",
    "        \"\"\"Get a unit Vec2 that is normal to self.\"\"\"\n",
    "        # let self be a unit vector (x1, y1).\n",
    "        # let the result be a unit vector (x2, y2).\n",
    "        # Arbitrarily choose (x2, y2) to be the result of\n",
    "        # rotating (x1, y1) through 90° counterclockwise.\n",
    "        u = self.unit()\n",
    "        angle = math.pi / 2.0\n",
    "        cos = 0.0  # math.cos(π/2)\n",
    "        sin = 1.0  # math.sin(π/2)\n",
    "        x2 = - u.y\n",
    "        y2 = u.x\n",
    "        return Vec2(x2, y2)\n",
    "    \n",
    "    def scaled(self, magnitude: float) -> 'Vec2':\n",
    "        return Vec2(self.x * magnitude, self.y * magnitude)\n",
    "    \n",
    "    def __str__(self) -> str:\n",
    "        return f\"{self.x},{self.y}\"\n",
    "    \n",
    "    "
   ]
  },
  {
   "cell_type": "code",
   "execution_count": 14,
   "metadata": {},
   "outputs": [
    {
     "name": "stdout",
     "output_type": "stream",
     "text": [
      "0.7071067811865475,-0.7071067811865475\n",
      "-0.0,1.0\n",
      "-1.0,0.0\n",
      "\n",
      "0.0\n",
      "90.0\n",
      "0.0\n",
      "0.0\n",
      "90.0\n"
     ]
    }
   ],
   "source": [
    "v1 = Vec2(1.0, 0.0)\n",
    "v2 = Vec2(0.0, 1.0)\n",
    "\n",
    "print(v1.diff(v2).unit())\n",
    "\n",
    "print(v1.normal())\n",
    "print(v2.normal())\n",
    "print(\"\")\n",
    "\n",
    "def deg(rad: float) -> float:\n",
    "    return rad * 180.0 / math.pi\n",
    "\n",
    "print(v1.dot(v2))\n",
    "print(deg(v1.angle(v2)))\n",
    "print(deg(v1.angle(v1)))\n",
    "print(deg(v2.angle(v2)))\n",
    "print(deg(v2.angle(v1)))"
   ]
  },
  {
   "cell_type": "code",
   "execution_count": 50,
   "metadata": {},
   "outputs": [],
   "source": [
    "class UnitParticle:\n",
    "    def __init__(self, s: Vec2, v: Vec2):\n",
    "        self.mass = 1.0\n",
    "        self.radius = 1.0\n",
    "        self.s = s\n",
    "        self.v = v\n",
    "        \n",
    "    def displacement(self, other: 'UnitParticle') -> Vec2:\n",
    "        return other.s.diff(self.s)\n",
    "    \n",
    "    def rel_vel(self, other: 'UnitParticle') -> Vec2:\n",
    "        return self.v.diff(other.v)\n",
    "    \n",
    "    def is_colliding(self, other: 'UnitParticle') -> bool:\n",
    "        \"\"\"Find out if self and other are close enough to be colliding.\"\"\"\n",
    "        return self.displacement(other).magnitude() <= (self.radius + other.radius)\n",
    "    \n",
    "    def collide(self, other: 'UnitParticle') -> None:\n",
    "        \"\"\"\n",
    "        Model, simplistically, an elastic collision between self and other.\n",
    "        This method mutates self and other.\n",
    "        \"\"\"\n",
    "        # Don't second-guess whether self.is_colliding(other).\n",
    "        # Assume no rotation - no \"English\" in the collision.\n",
    "        # Assume both particles \"reflect\" off the line normal to the\n",
    "        # offset vector between the particles.  Angle of incidence == angle\n",
    "        # of reflection, and all that.\n",
    "        \n",
    "        # If I remembered & understood Newton's Principia, I'd be able to make\n",
    "        # something of the idea that the instantaneous force on a point particle\n",
    "        # in a 2-body collision lies along the displacement vector between\n",
    "        # the two particles.\n",
    "        # Instead I'll rely on notes from a master's thesis:\n",
    "        # https://docs.google.com/fileview?id=0Bze6mKYvrpOKYjdkODVhMTAtM2Q4Zi00NzgyLWE2YzMtN2MwZmQ4NjA3OWMw&hl=en\n",
    "        \n",
    "        n = self.displacement(other).unit()\n",
    "        jr = self._calc_impulse(other, n)\n",
    "        v_new = self.v.diff(n.scaled(-jr / self.mass))\n",
    "        other_v_new = other.v.diff(n.scaled(jr / other.mass))\n",
    "        self.v = v_new\n",
    "        other.v = other_v_new\n",
    "        \n",
    "    def impulse(self, other: 'UnitParticle') -> float:\n",
    "        n = self.displacement(other).unit()\n",
    "        return self._calc_impulse(other, n)\n",
    "\n",
    "    def _calc_impulse(self, other: 'UnitParticle', n: Vec2) -> float:\n",
    "        # Let e, the coefficient of restitution, be 1.  I think that corresponds\n",
    "        # to a perfectly elastic collision.\n",
    "        e = 1.0\n",
    "        # Relative collision velocity:\n",
    "        vr = self.v.diff(other.v)\n",
    "        \n",
    "        numer = -(1.0 + e) * vr.dot(n)\n",
    "        # Ignore rotation:\n",
    "        denom = 1.0 / self.mass + 1.0 / other.mass\n",
    "        return numer / denom\n",
    "        \n",
    "    def __str__(self) -> str:\n",
    "        return f\"P(m={self.mass}, r={self.radius}, s={self.s}, v={self.v})\"\n",
    "        \n",
    "    "
   ]
  },
  {
   "cell_type": "code",
   "execution_count": 53,
   "metadata": {},
   "outputs": [
    {
     "name": "stdout",
     "output_type": "stream",
     "text": [
      "P(m=1.0, r=1.0, s=0.0,0.0, v=0.0,0.0)\n",
      "P(m=1.0, r=1.0, s=1.0,0.0, v=-1.0,1.0)\n",
      "Displacement: 1.0,0.0\n",
      "Unit displacement: 1.0,0.0\n",
      "Relative velocity: 1.0,-1.0\n"
     ]
    }
   ],
   "source": [
    "p0 = UnitParticle(Vec2(0.0, 0.0), Vec2(0.0, 0.0))\n",
    "print(p0)\n",
    "p1 = UnitParticle(Vec2(1.0, 0.0), Vec2(-1.0, 1.0))\n",
    "print(p1)\n",
    "\n",
    "print(\"Displacement:\", p0.displacement(p1))\n",
    "print(\"Unit displacement:\", p0.displacement(p1).unit())\n",
    "print(\"Relative velocity:\", p0.rel_vel(p1))"
   ]
  },
  {
   "cell_type": "code",
   "execution_count": 54,
   "metadata": {},
   "outputs": [
    {
     "data": {
      "text/plain": [
       "True"
      ]
     },
     "execution_count": 54,
     "metadata": {},
     "output_type": "execute_result"
    }
   ],
   "source": [
    "p0.is_colliding(p1)"
   ]
  },
  {
   "cell_type": "code",
   "execution_count": 55,
   "metadata": {},
   "outputs": [
    {
     "data": {
      "text/plain": [
       "-1.0"
      ]
     },
     "execution_count": 55,
     "metadata": {},
     "output_type": "execute_result"
    }
   ],
   "source": [
    "p0.impulse(p1)"
   ]
  },
  {
   "cell_type": "code",
   "execution_count": 56,
   "metadata": {},
   "outputs": [
    {
     "name": "stdout",
     "output_type": "stream",
     "text": [
      "Before: P(m=1.0, r=1.0, s=0.0,0.0, v=0.0,0.0) P(m=1.0, r=1.0, s=1.0,0.0, v=-1.0,1.0)\n",
      "After: P(m=1.0, r=1.0, s=0.0,0.0, v=-1.0,0.0) P(m=1.0, r=1.0, s=1.0,0.0, v=0.0,1.0)\n"
     ]
    }
   ],
   "source": [
    "print(\"Before:\", p0, p1)\n",
    "p0.collide(p1)\n",
    "print(\"After:\", p0, p1)"
   ]
  },
  {
   "cell_type": "code",
   "execution_count": null,
   "metadata": {},
   "outputs": [],
   "source": []
  }
 ],
 "metadata": {
  "kernelspec": {
   "display_name": "Python 3",
   "language": "python",
   "name": "python3"
  },
  "language_info": {
   "codemirror_mode": {
    "name": "ipython",
    "version": 3
   },
   "file_extension": ".py",
   "mimetype": "text/x-python",
   "name": "python",
   "nbconvert_exporter": "python",
   "pygments_lexer": "ipython3",
   "version": "3.8.1"
  }
 },
 "nbformat": 4,
 "nbformat_minor": 4
}
