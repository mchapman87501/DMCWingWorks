{
 "cells": [
  {
   "cell_type": "code",
   "execution_count": 6,
   "metadata": {},
   "outputs": [
    {
     "name": "stdout",
     "output_type": "stream",
     "text": [
      "0.0\n",
      "Vec2D(1.0, 0.0)\n",
      "0.0\n",
      "90.0\n",
      "45.0\n"
     ]
    }
   ],
   "source": [
    "import math\n",
    "\n",
    "class Vec2D:\n",
    "    def __init__(self, x, y):\n",
    "        self.x = x\n",
    "        self.y = y\n",
    "        \n",
    "    def dot(self, other):\n",
    "        return self.x * other.x + self.y * other.y\n",
    "    \n",
    "    def __add__(self, other):\n",
    "        return self.__class__(self.x + other.x, self.y + other.y)\n",
    "    \n",
    "    def __sub__(self, other):\n",
    "        return self.__class__(self.x - other.x, self.y - other.y)\n",
    "    \n",
    "    def __mul__(self, other):\n",
    "        if isinstance(other, float) or isinstance(other, int):\n",
    "            return self.__class__(self.x * other, self.y * other)\n",
    "        raise ValueError(\"Can multiply only by a scalar.  Use dot for dot product.\")\n",
    "        \n",
    "    def __rmul__(self, other):\n",
    "        return self.__mul__(other)\n",
    "    \n",
    "    def mag_sqr(self):\n",
    "        return self.x * self.x + self.y * self.y\n",
    "    \n",
    "    def mag(self):\n",
    "        return math.sqrt(self.mag_sqr())\n",
    "    \n",
    "    def angle(self):\n",
    "        return math.atan2(self.y, self.x)\n",
    "    \n",
    "    def unit(self):\n",
    "        m = self.mag()\n",
    "        if m <= 0:\n",
    "            return self.__class__(0.0, 0.0)\n",
    "        return self.__class__(self.x / m, self.y / m)\n",
    "    \n",
    "    def normal(self):\n",
    "        \"\"\"Get a normal vector to self.\"\"\"\n",
    "        angle = (self.angle() + math.pi / 2.0) % math.tau\n",
    "        return self.__class__(math.cos(angle), math.sin(angle))\n",
    "\n",
    "    def __str__(self):\n",
    "        return f\"{self.__class__.__name__}({self.x}, {self.y})\"\n",
    "    \n",
    "a = Vec2D(1.0, 0.0)\n",
    "b = Vec2D(0.0, 1.0)\n",
    "print(a.dot(b))\n",
    "print(a.unit())\n",
    "\n",
    "def deg(rad):\n",
    "    return 180.0 * rad / math.pi\n",
    "\n",
    "print(deg(a.angle()))\n",
    "print(deg(b.angle()))\n",
    "\n",
    "c = Vec2D(1.0, 1.0)\n",
    "print(deg(c.angle()))\n"
   ]
  },
  {
   "cell_type": "code",
   "execution_count": 7,
   "metadata": {},
   "outputs": [
    {
     "name": "stdout",
     "output_type": "stream",
     "text": [
      "Vec2D(1.0, 0.0)\n",
      "Vec2D(6.123233995736766e-17, 1.0)\n",
      "\n",
      "Vec2D(0.0, 1.0)\n",
      "Vec2D(-1.0, 1.2246467991473532e-16)\n",
      "\n",
      "Vec2D(0.7071067811865475, 0.7071067811865475)\n",
      "Vec2D(-0.7071067811865475, 0.7071067811865476)\n"
     ]
    }
   ],
   "source": [
    "a = Vec2D(1.0, 0.0)\n",
    "b = Vec2D(0.0, 1.0)\n",
    "c = Vec2D(1.0, 1.0).unit()\n",
    "\n",
    "print(a)\n",
    "print(a.normal())\n",
    "print(\"\")\n",
    "print(b)\n",
    "print(b.normal())\n",
    "print(\"\")\n",
    "print(c)\n",
    "print(c.normal())\n"
   ]
  },
  {
   "cell_type": "code",
   "execution_count": 9,
   "metadata": {},
   "outputs": [
    {
     "name": "stdout",
     "output_type": "stream",
     "text": [
      "Vec2D(1.0, -1.0)\n",
      "Vec2D(1.0, 1.0)\n",
      "Vec2D(2.75, 0.0)\n"
     ]
    }
   ],
   "source": [
    "print(a - b)\n",
    "print(a + b)\n",
    "print(2.75 * a)"
   ]
  },
  {
   "cell_type": "code",
   "execution_count": 18,
   "metadata": {},
   "outputs": [
    {
     "name": "stdout",
     "output_type": "stream",
     "text": [
      "Line(Vec2D(0.0, 0.0), Vec2D(5.0, -2.0))\n",
      "Vec2D(0.9284766908852594, -0.3713906763541037)\n",
      "Vec2D(0.3713906763541038, 0.9284766908852593)\n",
      "Vec2D(5.0, 0.0) + Vec2D(-0.12403473458920847, -0.9922778767136677) = Vec2D(4.875965265410792, -0.9922778767136677)\n",
      "Normal component: Vec2D(-0.23442323748948352, -1.8753858999158681)\n"
     ]
    }
   ],
   "source": [
    "class Line:\n",
    "    def __init__(self, p0: Vec2D, pf: Vec2D):\n",
    "        self.p0 = p0\n",
    "        self.pf = pf\n",
    "        self._ray = (self.pf - self.p0)\n",
    "        self._uray = self._ray.unit()\n",
    "        \n",
    "    def ray(self) -> Vec2D:\n",
    "        return self._ray\n",
    "    \n",
    "    def unit(self) -> Vec2D:\n",
    "        return self._uray\n",
    "\n",
    "    def normal(self) -> Vec2D:\n",
    "        return self._uray.normal()\n",
    "    \n",
    "    def __str__(self) -> str:\n",
    "        return f\"{self.__class__.__name__}({self.p0}, {self.pf})\"\n",
    "\n",
    "    \n",
    "a_line = Line(Vec2D(0.0, 0.0), Vec2D(5.0, -2.0))\n",
    "print(a_line)\n",
    "print(a_line.unit())\n",
    "print(a_line.normal())\n",
    "\n",
    "wind = Vec2D(5.0, 0.0)\n",
    "norm = Vec2D(-0.125, -1.0).unit()\n",
    "wn = wind + norm\n",
    "print(f\"{wind} + {norm} = {wn}\")\n",
    "# Normal component of wind + norm:\n",
    "nwn = wn.dot(norm) * norm * wn.mag()\n",
    "print(f\"Normal component: {nwn}\")"
   ]
  },
  {
   "cell_type": "code",
   "execution_count": null,
   "metadata": {},
   "outputs": [],
   "source": []
  }
 ],
 "metadata": {
  "kernelspec": {
   "display_name": "Python 3",
   "language": "python",
   "name": "python3"
  },
  "language_info": {
   "codemirror_mode": {
    "name": "ipython",
    "version": 3
   },
   "file_extension": ".py",
   "mimetype": "text/x-python",
   "name": "python",
   "nbconvert_exporter": "python",
   "pygments_lexer": "ipython3",
   "version": "3.8.1"
  }
 },
 "nbformat": 4,
 "nbformat_minor": 4
}
